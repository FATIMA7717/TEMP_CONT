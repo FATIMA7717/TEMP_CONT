{
  "nbformat": 4,
  "nbformat_minor": 0,
  "metadata": {
    "colab": {
      "provenance": [],
      "authorship_tag": "ABX9TyNhsTDBQdXbnJcePd5r+dcX",
      "include_colab_link": true
    },
    "kernelspec": {
      "name": "python3",
      "display_name": "Python 3"
    },
    "language_info": {
      "name": "python"
    }
  },
  "cells": [
    {
      "cell_type": "markdown",
      "metadata": {
        "id": "view-in-github",
        "colab_type": "text"
      },
      "source": [
        "<a href=\"https://colab.research.google.com/github/FATIMA7717/TEMP_CONT/blob/main/untitled7.ipynb\" target=\"_parent\"><img src=\"https://colab.research.google.com/assets/colab-badge.svg\" alt=\"Open In Colab\"/></a>"
      ]
    },
    {
      "cell_type": "code",
      "execution_count": null,
      "metadata": {
        "colab": {
          "base_uri": "https://localhost:8080/"
        },
        "id": "hw3iMrKTR0-f",
        "outputId": "3ebb1d33-0d33-4722-fde4-eb5b454c2d4c"
      },
      "outputs": [
        {
          "output_type": "stream",
          "name": "stdout",
          "text": [
            "Choose a conversion type:\n",
            "1. Celsius to Fahrenheit\n",
            "2. Fahrenheit to Celsius\n",
            "Enter 1 or 2: 1\n",
            "Enter temperature in Celsius: 45\n",
            "45.0°C is equal to 113.0°F\n"
          ]
        }
      ],
      "source": [
        "import streamlit as st\n",
        "\n",
        "# Function to convert Celsius to Fahrenheit\n",
        "def celsius_to_fahrenheit(celsius):\n",
        "    return (celsius * 9/5) + 32\n",
        "\n",
        "# Function to convert Fahrenheit to Celsius\n",
        "def fahrenheit_to_celsius(fahrenheit):\n",
        "    return (fahrenheit - 32) * 5/9\n",
        "\n",
        "# Streamlit app title\n",
        "st.title(\"Temperature Converter\")\n",
        "\n",
        "# Choose conversion type\n",
        "conversion_type = st.radio(\"Select Conversion Type:\", (\"Celsius to Fahrenheit\", \"Fahrenheit to Celsius\"))\n",
        "\n",
        "# Input temperature and perform conversion based on selected option\n",
        "if conversion_type == \"Celsius to Fahrenheit\":\n",
        "    celsius = st.number_input(\"Enter temperature in Celsius:\")\n",
        "    if st.button(\"Convert\"):\n",
        "        fahrenheit = celsius_to_fahrenheit(celsius)\n",
        "        st.write(f\"{celsius}°C is equal to {fahrenheit}°F\")\n",
        "\n",
        "elif conversion_type == \"Fahrenheit to Celsius\":\n",
        "    fahrenheit = st.number_input(\"Enter temperature in Fahrenheit:\")\n",
        "    if st.button(\"Convert\"):\n",
        "        celsius = fahrenheit_to_celsius(fahrenheit)\n",
        "        st.write(f\"{fahrenheit}°F is equal to {celsius}°C\")\n",
        "\n"
      ]
    }
  ]
}